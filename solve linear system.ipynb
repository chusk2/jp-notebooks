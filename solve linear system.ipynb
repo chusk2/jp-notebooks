{
 "cells": [
  {
   "cell_type": "markdown",
   "metadata": {},
   "source": [
    "# How to solve a linear system"
   ]
  },
  {
   "cell_type": "code",
   "execution_count": 1,
   "metadata": {},
   "outputs": [],
   "source": [
    "from IPython.display import display, Math\n",
    "import numpy as np"
   ]
  },
  {
   "cell_type": "markdown",
   "metadata": {},
   "source": [
    "Ahora consultamos cuántas ecuaciones y cuántas incógnitas tenemos"
   ]
  },
  {
   "cell_type": "code",
   "execution_count": 7,
   "metadata": {},
   "outputs": [],
   "source": [
    "equations = int(input('¿Cuántas ecuaciones? '))\n",
    "unknowns =  int(input('¿Cuántas incógnitas? '))"
   ]
  },
  {
   "cell_type": "code",
   "execution_count": 16,
   "metadata": {},
   "outputs": [
    {
     "name": "stdout",
     "output_type": "stream",
     "text": [
      "La matriz de coeficientes es:\n",
      " [[ 2  3]\n",
      " [-1  4]]\n",
      "La matriz de términos coeficientes es:\n",
      " [[0]\n",
      " [2]]\n"
     ]
    }
   ],
   "source": [
    "coeficients = []\n",
    "independent_terms = []\n",
    "for i in range(equations):\n",
    "    coeficients.append([])\n",
    "    for k in range(unknowns):\n",
    "        coeficients[i].append(int(input(f'Ecuación {i+1}, coeficiente {k+1}: ')))\n",
    "    indep_term = int(input(f'Término independiente de la ecuación {i+1}: '))\n",
    "    independent_terms.append([indep_term])"
   ]
  },
  {
   "cell_type": "markdown",
   "metadata": {},
   "source": [
    "### Creamos las matrices usando numpy"
   ]
  },
  {
   "cell_type": "code",
   "execution_count": 46,
   "metadata": {},
   "outputs": [],
   "source": [
    "A = np.array(coeficients)\n",
    "B = np.array(independent_terms)"
   ]
  },
  {
   "cell_type": "markdown",
   "metadata": {},
   "source": [
    "Imprimimos las matrices:"
   ]
  },
  {
   "cell_type": "code",
   "execution_count": 47,
   "metadata": {},
   "outputs": [
    {
     "name": "stdout",
     "output_type": "stream",
     "text": [
      "La matriz de coeficientes es:\n",
      " [[ 2  3]\n",
      " [-1  4]]\n",
      "La matriz de términos coeficientes es:\n",
      " [[0]\n",
      " [2]]\n"
     ]
    }
   ],
   "source": [
    "print(f'La matriz de coeficientes es:\\n {A}')\n",
    "print(f'La matriz de términos coeficientes es:\\n {B}')"
   ]
  },
  {
   "cell_type": "markdown",
   "metadata": {},
   "source": [
    "### El sistema a resolver es el siguiente:"
   ]
  },
  {
   "cell_type": "code",
   "execution_count": 34,
   "metadata": {},
   "outputs": [
    {
     "data": {
      "text/latex": [
       "$\\displaystyle 2x+3y = 0$"
      ],
      "text/plain": [
       "<IPython.core.display.Math object>"
      ]
     },
     "metadata": {},
     "output_type": "display_data"
    },
    {
     "data": {
      "text/latex": [
       "$\\displaystyle -1x+4y = 2$"
      ],
      "text/plain": [
       "<IPython.core.display.Math object>"
      ]
     },
     "metadata": {},
     "output_type": "display_data"
    }
   ],
   "source": [
    "display(Math(f'{A[0][0]}x+{A[0][1]}y = {B[0][0]}'))\n",
    "display(Math(f'{A[1][0]}x+{A[1][1]}y = {B[1][0]}'))"
   ]
  },
  {
   "cell_type": "markdown",
   "metadata": {},
   "source": [
    "## Usamos el método `np.linalg.solve(coeficients, indep_terms)` para resolver el sistema."
   ]
  },
  {
   "cell_type": "code",
   "execution_count": 48,
   "metadata": {},
   "outputs": [],
   "source": [
    "Ainv = np.linalg.inv(A)\n",
    "X = np.linalg.solve(A,B)"
   ]
  },
  {
   "cell_type": "code",
   "execution_count": 45,
   "metadata": {},
   "outputs": [
    {
     "name": "stdout",
     "output_type": "stream",
     "text": [
      "Las soluciones son: "
     ]
    },
    {
     "data": {
      "text/latex": [
       "$\\displaystyle x = -0.55,  y = 0.36$"
      ],
      "text/plain": [
       "<IPython.core.display.Math object>"
      ]
     },
     "metadata": {},
     "output_type": "display_data"
    }
   ],
   "source": [
    "print('Las soluciones son: ', end='')\n",
    "display(Math(f'x = {X[0][0]:.2f},  y = {X[1][0]:.2f}'))"
   ]
  }
 ],
 "metadata": {
  "interpreter": {
   "hash": "e7370f93d1d0cde622a1f8e1c04877d8463912d04d973331ad4851f04de6915a"
  },
  "kernelspec": {
   "display_name": "Python 3.9.7 64-bit",
   "name": "python3"
  },
  "language_info": {
   "codemirror_mode": {
    "name": "ipython",
    "version": 3
   },
   "file_extension": ".py",
   "mimetype": "text/x-python",
   "name": "python",
   "nbconvert_exporter": "python",
   "pygments_lexer": "ipython3",
   "version": "3.9.7"
  },
  "orig_nbformat": 4
 },
 "nbformat": 4,
 "nbformat_minor": 2
}
