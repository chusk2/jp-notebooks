{
 "cells": [
  {
   "cell_type": "markdown",
   "metadata": {},
   "source": [
    "# Numpy matrix"
   ]
  },
  {
   "cell_type": "code",
   "execution_count": 2,
   "metadata": {},
   "outputs": [],
   "source": [
    "import numpy as np\n",
    "from random import randint"
   ]
  },
  {
   "cell_type": "code",
   "execution_count": 3,
   "metadata": {},
   "outputs": [],
   "source": [
    "grades = np.array([randint(0,10) for i in range(12)])"
   ]
  },
  {
   "cell_type": "code",
   "execution_count": 4,
   "metadata": {},
   "outputs": [
    {
     "data": {
      "text/plain": [
       "array([ 9,  6, 10,  0,  4,  7,  6,  6,  0,  9,  1,  9])"
      ]
     },
     "execution_count": 4,
     "metadata": {},
     "output_type": "execute_result"
    }
   ],
   "source": [
    "grades"
   ]
  },
  {
   "cell_type": "markdown",
   "metadata": {},
   "source": [
    "get the mean value of the array"
   ]
  },
  {
   "cell_type": "code",
   "execution_count": 5,
   "metadata": {},
   "outputs": [
    {
     "name": "stdout",
     "output_type": "stream",
     "text": [
      "The average grade of the class is 5.58.\n"
     ]
    }
   ],
   "source": [
    "print(f'The average grade of the class is {grades.mean():.2f}.')"
   ]
  },
  {
   "cell_type": "markdown",
   "metadata": {},
   "source": [
    "### Vectorisation: apply one operation to all elements of the matrix\n",
    "### Broadcasting: extend the dimensions of the matrix to perform certain operations\n",
    "In this case, the scalar `1.5` is extended to a matrix of the same dimensions of `grades` to perform a matrix addition. This illustrates the principle of **broadcasting**"
   ]
  },
  {
   "cell_type": "code",
   "execution_count": 6,
   "metadata": {},
   "outputs": [
    {
     "name": "stdout",
     "output_type": "stream",
     "text": [
      "[ 9  6 10  0  4  7  6  6  0  9  1  9]\n",
      "[10.5  7.5 11.5  1.5  5.5  8.5  7.5  7.5  1.5 10.5  2.5 10.5]\n"
     ]
    }
   ],
   "source": [
    "print(grades)\n",
    "# add 1.5 points to every mark\n",
    "print( grades + 1.5)"
   ]
  },
  {
   "cell_type": "markdown",
   "metadata": {},
   "source": [
    "Get only the grades of students who have passed the exam."
   ]
  },
  {
   "cell_type": "code",
   "execution_count": 7,
   "metadata": {},
   "outputs": [
    {
     "name": "stdout",
     "output_type": "stream",
     "text": [
      "Only 8 students have passed the exam. That's the 66.67%.\n",
      "Their marks are:\n",
      "[ 9  6 10  7  6  6  9  9]\n"
     ]
    }
   ],
   "source": [
    "\n",
    "pass_grades = np.array([mark for mark in grades if mark >=5])\n",
    "print(f'Only {len(pass_grades)} students have passed the exam. That\\'s the {len(pass_grades)/len(grades):.2%}.')\n",
    "print(f'Their marks are:\\n{pass_grades}')"
   ]
  },
  {
   "cell_type": "markdown",
   "metadata": {},
   "source": [
    "## Multidimensional arrays\n",
    "`array.reshape(dimensions)` creates a multidimensional array with the specified dimensions.  \n",
    "Next code creates a multidimensional matrix of 2 \"pages\" with each one containing a 2x3 matrix  \n",
    "np.array.shape (_is a matrix attribute_) returns the dimensions of the matrix"
   ]
  },
  {
   "cell_type": "code",
   "execution_count": 8,
   "metadata": {},
   "outputs": [
    {
     "data": {
      "text/plain": [
       "(2, 2, 3)"
      ]
     },
     "execution_count": 8,
     "metadata": {},
     "output_type": "execute_result"
    }
   ],
   "source": [
    "# Create a matrix of 2 \"pages\" with each one containing a 2x3 matrix\n",
    "temperatures = np.array([29.3, 42.1, 18.8, 16.1, 38.0, 12.5,\n",
    "                        12.6, 49.9, 38.6, 31.3, 9.2, 22.2]).reshape(2, 2, 3)\n",
    "temperatures.shape"
   ]
  },
  {
   "cell_type": "markdown",
   "metadata": {},
   "source": [
    "## Getting the transpose of an array: `np.ndarray.swapaxes(array, axis_1, axis_2)`\n",
    "### Axis of array are zero-indexed. Swapping axis_1 and axis_2 is equivalent to swapping rows and columns"
   ]
  },
  {
   "cell_type": "code",
   "execution_count": 9,
   "metadata": {},
   "outputs": [
    {
     "name": "stdout",
     "output_type": "stream",
     "text": [
      "Original array:\n",
      "[[[29.3 42.1 18.8]\n",
      "  [16.1 38.  12.5]]\n",
      "\n",
      " [[12.6 49.9 38.6]\n",
      "  [31.3  9.2 22.2]]]\n",
      "\n",
      "Transpose of array:\n"
     ]
    },
    {
     "data": {
      "text/plain": [
       "array([[[29.3, 16.1],\n",
       "        [42.1, 38. ],\n",
       "        [18.8, 12.5]],\n",
       "\n",
       "       [[12.6, 31.3],\n",
       "        [49.9,  9.2],\n",
       "        [38.6, 22.2]]])"
      ]
     },
     "execution_count": 9,
     "metadata": {},
     "output_type": "execute_result"
    }
   ],
   "source": [
    "print('Original array:')\n",
    "print(temperatures)\n",
    "print('\\nTranspose of array:')\n",
    "np.swapaxes(temperatures, 1, 2)"
   ]
  },
  {
   "cell_type": "markdown",
   "metadata": {},
   "source": [
    "### Array methods can change their results depending on which axis they are acting on"
   ]
  },
  {
   "cell_type": "code",
   "execution_count": 10,
   "metadata": {},
   "outputs": [
    {
     "name": "stdout",
     "output_type": "stream",
     "text": [
      "The maximum value of the table is 9\n",
      "The maximum value of each row is: [5 6 7 9]\n",
      "The maximum value of each column is: [7 9 1 4]\n"
     ]
    }
   ],
   "source": [
    "table = np.array([\n",
    "                [5, 3, 7, 1],\n",
    "                [2, 6, 7 ,9],\n",
    "                [1, 1, 1, 1],\n",
    "                [4, 3, 2, 0],\n",
    "                ])\n",
    "print(f'The maximum value of the table is {table.max()}')\n",
    "print(f'The maximum value of each row is: {table.max(axis=0)}')\n",
    "print(f'The maximum value of each column is: {table.max(axis=1)}')"
   ]
  },
  {
   "cell_type": "markdown",
   "metadata": {},
   "source": [
    "## Create an array of consecutive elements using `numpy.arange(size)`\n",
    "### Broadcasting can be done only if one of the matrix axes has size of 1 or if axes in both arrays are the same size"
   ]
  },
  {
   "cell_type": "code",
   "execution_count": 11,
   "metadata": {},
   "outputs": [
    {
     "data": {
      "text/plain": [
       "array([[[0, 2],\n",
       "        [2, 4]]])"
      ]
     },
     "execution_count": 11,
     "metadata": {},
     "output_type": "execute_result"
    }
   ],
   "source": [
    "array_2by2 = np.arange(4).reshape(1,2,2)\n",
    "array_1by2 = np.arange(2).reshape(1,1,2)\n",
    "array_2by2 + array_1by2"
   ]
  },
  {
   "cell_type": "markdown",
   "metadata": {},
   "source": [
    "## Array slicing  \n",
    "Rows and columns slices must be separated by commas. Within a row or a column, normal slicing with colon is used"
   ]
  },
  {
   "cell_type": "code",
   "execution_count": 12,
   "metadata": {},
   "outputs": [],
   "source": [
    "square = np.array([\n",
    "                    [16, 3, 2, 13],\n",
    "                    [5, 10, 11, 8],\n",
    "                    [9, 6, 7, 12],\n",
    "                    [4, 15, 14, 1]\n",
    "                    ])"
   ]
  },
  {
   "cell_type": "code",
   "execution_count": 13,
   "metadata": {},
   "outputs": [
    {
     "name": "stdout",
     "output_type": "stream",
     "text": [
      "2nd row of array is: [ 5 10 11  8]\n",
      "2nd column of array is [ 3 10  6 15]\n",
      "Elements of last column in the 2nd and 3rd rows:\n",
      "[ 8 12]\n"
     ]
    }
   ],
   "source": [
    "print(f'2nd row of array is: {square[1,:]}')\n",
    "print(f'2nd column of array is {square[:,1]}')\n",
    "print('Elements of last column in the 2nd and 3rd rows:')\n",
    "print(square[1:3,-1])"
   ]
  },
  {
   "cell_type": "markdown",
   "metadata": {},
   "source": [
    "## linear spaced elements in an array  \n",
    "Create an array using `numpy.linspace(start, stop, number_of_elements)`"
   ]
  },
  {
   "cell_type": "code",
   "execution_count": 14,
   "metadata": {},
   "outputs": [
    {
     "data": {
      "text/plain": [
       "array([[10, 15, 20],\n",
       "       [25, 30, 35],\n",
       "       [40, 45, 50]])"
      ]
     },
     "execution_count": 14,
     "metadata": {},
     "output_type": "execute_result"
    }
   ],
   "source": [
    "spaced = np.linspace(10,50,9, dtype=int).reshape(3,-1)\n",
    "# using -1 as argument for number of columns in reshape\n",
    "# forces reshape to work out the amount of columns to fit all elements of array\n",
    "spaced"
   ]
  },
  {
   "cell_type": "markdown",
   "metadata": {},
   "source": [
    "## Apply a mask to the elements of array based on fullfiling certain condition"
   ]
  },
  {
   "cell_type": "code",
   "execution_count": 16,
   "metadata": {},
   "outputs": [
    {
     "name": "stdout",
     "output_type": "stream",
     "text": [
      "Array of random numbers between 1 and 100.\n",
      "[[85  7 13 91  5]\n",
      " [12 80 39 48 96]\n",
      " [43 79 10 57 24]\n",
      " [34 20 44 59 86]\n",
      " [93 82 56 98 10]]\n",
      "\n",
      "Selection of even elements of original array:\n",
      "[12 80 48 96 10 24 34 20 44 86 82 56 98 10]\n",
      "\n",
      "Only even elements greater or equal to 30 are showed:\n",
      "[80 48 96 34 44 86 82 56 98]\n"
     ]
    }
   ],
   "source": [
    "print('Array of random numbers between 1 and 100.')\n",
    "print(array := np.array([randint(1,100) for i in range(25)]).reshape(5,-1))\n",
    "print('\\nSelection of even elements of original array:')\n",
    "mask1= array % 2 == 0  # take only even numbers\n",
    "print(array_masked1 := array[mask1])\n",
    "print('\\nOnly even elements greater or equal to 30 are showed:')\n",
    "mask2 = array_masked1 >= 30  # select even numbers greater or equal to 30\n",
    "print(array_masked2 := array_masked1[mask2])"
   ]
  },
  {
   "cell_type": "markdown",
   "metadata": {},
   "source": [
    "## Combining masks to filter array elements"
   ]
  },
  {
   "cell_type": "markdown",
   "metadata": {},
   "source": [
    "### Filter array elements by applying one mask after another"
   ]
  },
  {
   "cell_type": "code",
   "execution_count": 17,
   "metadata": {},
   "outputs": [
    {
     "name": "stdout",
     "output_type": "stream",
     "text": [
      "\n",
      "Odd elements multiples of 3:\n",
      "[39 57 93]\n"
     ]
    }
   ],
   "source": [
    "print('\\nOdd elements multiples of 3:')\n",
    "array_odds = array[array %2 !=0]\n",
    "array_odds_multiple3 = array_odds[ array_odds % 3 == 0]\n",
    "print(array_odds_multiple3)"
   ]
  },
  {
   "cell_type": "markdown",
   "metadata": {},
   "source": [
    "### Now let's combine two masks at the same time  \n",
    "Use of `&` binary operator to concatenate conditions"
   ]
  },
  {
   "cell_type": "code",
   "execution_count": 19,
   "metadata": {},
   "outputs": [
    {
     "name": "stdout",
     "output_type": "stream",
     "text": [
      "\n",
      "Odd elements multiples of 3:\n",
      "[39 57 93]\n"
     ]
    }
   ],
   "source": [
    "print('\\nOdd elements multiples of 3:')\n",
    "print(array_odds_multiple3 := array[(array % 2 !=0) & (array % 3 == 0)])"
   ]
  },
  {
   "cell_type": "markdown",
   "metadata": {},
   "source": [
    "## Transposing an array"
   ]
  },
  {
   "cell_type": "code",
   "execution_count": 23,
   "metadata": {},
   "outputs": [
    {
     "name": "stdout",
     "output_type": "stream",
     "text": [
      "[[-8  2 -3 -6]\n",
      " [ 8 -8  5 -9]\n",
      " [ 3  7  3  3]]\n"
     ]
    }
   ],
   "source": [
    "print(a := np.array([randint(-10,10) for i in range(12)]).reshape(3,4))\n"
   ]
  },
  {
   "cell_type": "markdown",
   "metadata": {},
   "source": [
    "### 1st method of transposing an array:  \n",
    "Using `T` attribute of ndarray"
   ]
  },
  {
   "cell_type": "code",
   "execution_count": 24,
   "metadata": {},
   "outputs": [
    {
     "name": "stdout",
     "output_type": "stream",
     "text": [
      "[[-8  8  3]\n",
      " [ 2 -8  7]\n",
      " [-3  5  3]\n",
      " [-6 -9  3]]\n"
     ]
    }
   ],
   "source": [
    "print(a.T)"
   ]
  },
  {
   "cell_type": "markdown",
   "metadata": {},
   "source": [
    "### 2nd method of transposing an array:  \n",
    "Using `transpose()` method"
   ]
  },
  {
   "cell_type": "code",
   "execution_count": 26,
   "metadata": {},
   "outputs": [
    {
     "name": "stdout",
     "output_type": "stream",
     "text": [
      "[[-8  8  3]\n",
      " [ 2 -8  7]\n",
      " [-3  5  3]\n",
      " [-6 -9  3]]\n"
     ]
    }
   ],
   "source": [
    "print(a.transpose())"
   ]
  },
  {
   "cell_type": "markdown",
   "metadata": {},
   "source": [
    "### 3rd method of transposing an array:  \n",
    "Using `numpy.swapaxes(array, axis 1, axis 2)`"
   ]
  },
  {
   "cell_type": "code",
   "execution_count": 29,
   "metadata": {},
   "outputs": [
    {
     "name": "stdout",
     "output_type": "stream",
     "text": [
      "[[-8  8  3]\n",
      " [ 2 -8  7]\n",
      " [-3  5  3]\n",
      " [-6 -9  3]]\n"
     ]
    }
   ],
   "source": [
    "print(np.swapaxes(a, 0,1))"
   ]
  }
 ],
 "metadata": {
  "interpreter": {
   "hash": "e7370f93d1d0cde622a1f8e1c04877d8463912d04d973331ad4851f04de6915a"
  },
  "kernelspec": {
   "display_name": "Python 3.9.7 64-bit",
   "name": "python3"
  },
  "language_info": {
   "codemirror_mode": {
    "name": "ipython",
    "version": 3
   },
   "file_extension": ".py",
   "mimetype": "text/x-python",
   "name": "python",
   "nbconvert_exporter": "python",
   "pygments_lexer": "ipython3",
   "version": "3.9.7"
  },
  "orig_nbformat": 4
 },
 "nbformat": 4,
 "nbformat_minor": 2
}
