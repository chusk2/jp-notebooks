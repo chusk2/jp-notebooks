{
 "cells": [
  {
   "cell_type": "markdown",
   "metadata": {},
   "source": [
    "# Beautiful Soup Tutorial"
   ]
  },
  {
   "cell_type": "markdown",
   "metadata": {},
   "source": [
    "### Install beautifulsoup"
   ]
  },
  {
   "cell_type": "code",
   "execution_count": 5,
   "metadata": {},
   "outputs": [
    {
     "name": "stdout",
     "output_type": "stream",
     "text": [
      "Defaulting to user installation because normal site-packages is not writeable\n",
      "Requirement already satisfied: beautifulsoup4 in /usr/lib/python3.9/site-packages (4.9.3)\n",
      "Requirement already satisfied: soupsieve>1.2 in /usr/lib/python3.9/site-packages (from beautifulsoup4) (2.2.1)\n"
     ]
    }
   ],
   "source": [
    "!pip install beautifulsoup4"
   ]
  },
  {
   "cell_type": "code",
   "execution_count": 2,
   "metadata": {},
   "outputs": [],
   "source": [
    "from bs4 import BeautifulSoup as bs"
   ]
  },
  {
   "cell_type": "markdown",
   "metadata": {},
   "source": [
    "## Getting an url from the internet  \n",
    "Don't forget to get the actual html content from the `request object` using the **`.text` attribute**"
   ]
  },
  {
   "cell_type": "code",
   "execution_count": 29,
   "metadata": {},
   "outputs": [],
   "source": [
    "import requests\n",
    "url = 'https://raw.githubusercontent.com/techwithtim/Beautiful-Soup-Tutorial/main/index.html'\n",
    "html = requests.get(url)\n",
    "html_text = html.text\n",
    "soup = bs(html_text, 'html.parser')"
   ]
  },
  {
   "cell_type": "code",
   "execution_count": 8,
   "metadata": {},
   "outputs": [],
   "source": [
    "# with open('index.html', 'r') as file:\n",
    "#     content = BeautifulSoup(file, 'html.parser')\n",
    "# # prettify is a method to print the html file in HTML original form\n",
    "# print(content.prettify())\n"
   ]
  },
  {
   "cell_type": "markdown",
   "metadata": {},
   "source": [
    "To access an html tag inside the html file, access it as an attribute of the BeautifulSoup object.  \n",
    "Use the `.string` attribute to access its content"
   ]
  },
  {
   "cell_type": "code",
   "execution_count": 9,
   "metadata": {},
   "outputs": [
    {
     "name": "stdout",
     "output_type": "stream",
     "text": [
      "<title>Your Title Here</title>\n",
      "Your Title Here\n"
     ]
    }
   ],
   "source": [
    "title =soup.title\n",
    "# the whole html tag\n",
    "print(title)\n",
    "# only the content inside the html tag\n",
    "print(title.string)"
   ]
  },
  {
   "cell_type": "markdown",
   "metadata": {},
   "source": [
    "### Change the content of an html tag"
   ]
  },
  {
   "cell_type": "code",
   "execution_count": 10,
   "metadata": {},
   "outputs": [
    {
     "name": "stdout",
     "output_type": "stream",
     "text": [
      "Old title tag content:\n",
      "Your Title Here\n",
      "Now the <title> tag has new content:\n",
      "A new title for the html file\n"
     ]
    }
   ],
   "source": [
    "print('Old title tag content:')\n",
    "print(title.string)\n",
    "title.string = 'A new title for the html file'\n",
    "print('Now the <title> tag has new content:')\n",
    "print(title.string)"
   ]
  },
  {
   "cell_type": "markdown",
   "metadata": {},
   "source": [
    "with `.find()` method you can get the first concurrence of a specific tag giving the method the tag type as an argument"
   ]
  },
  {
   "cell_type": "code",
   "execution_count": 11,
   "metadata": {},
   "outputs": [
    {
     "name": "stdout",
     "output_type": "stream",
     "text": [
      "<a href=\"http://somegreatsite.com\">Link Name</a>\n"
     ]
    }
   ],
   "source": [
    "# get the first <a> tag\n",
    "first_link = soup.find('a')\n",
    "print(first_link)"
   ]
  },
  {
   "cell_type": "markdown",
   "metadata": {},
   "source": [
    "Use `.find_all(tag type)` to get all tags inside the html file"
   ]
  },
  {
   "cell_type": "code",
   "execution_count": 12,
   "metadata": {},
   "outputs": [
    {
     "name": "stdout",
     "output_type": "stream",
     "text": [
      "<a href=\"http://somegreatsite.com\">Link Name</a>\n",
      "***************\n",
      "<a href=\"mailto:support@yourcompany.com\">\n",
      "\n",
      "support@yourcompany.com</a>\n"
     ]
    }
   ],
   "source": [
    "links = soup.find_all('a')\n",
    "print(*links, sep='\\n'+'*'*15 + '\\n')"
   ]
  },
  {
   "cell_type": "markdown",
   "metadata": {},
   "source": [
    "The result of the `.find_all()` method is a list of tags. Use slicing to get only some of them"
   ]
  },
  {
   "cell_type": "code",
   "execution_count": 13,
   "metadata": {},
   "outputs": [
    {
     "name": "stdout",
     "output_type": "stream",
     "text": [
      "There are 2 <p> tags.\n",
      "Here they are:\n",
      "<p> This is a new paragraph!\n",
      "\n",
      "<p> <b color=\"red\">This is a new paragraph!</b>\n",
      "<br/> <b><i>This is a new sentence without a paragraph break, in bold italics.</i></b>\n",
      "<hr/>\n",
      "</p></p>\n",
      "<p> <b color=\"red\">This is a new paragraph!</b>\n",
      "<br/> <b><i>This is a new sentence without a paragraph break, in bold italics.</i></b>\n",
      "<hr/>\n",
      "</p>\n",
      "\n",
      "\n",
      "The first one is:\n",
      "<p> This is a new paragraph!\n",
      "\n",
      "<p> <b color=\"red\">This is a new paragraph!</b>\n",
      "<br/> <b><i>This is a new sentence without a paragraph break, in bold italics.</i></b>\n",
      "<hr/>\n",
      "</p></p>\n"
     ]
    }
   ],
   "source": [
    "p = soup.find_all('p')\n",
    "print(f'There are {len(p)} <p> tags.')\n",
    "print('Here they are:')\n",
    "for i in p:\n",
    "    print(i)\n",
    "\n",
    "print('\\n\\nThe first one is:')\n",
    "print(p[0])"
   ]
  },
  {
   "cell_type": "markdown",
   "metadata": {},
   "source": [
    "### Modifying the attributes of an html tag  \n",
    "Tag attributes can be accessed as it is a dictionary, where keys are the attribute itself and value is the attribute's value. This dictionary can be shown using the bs object's attribute `.attrs`"
   ]
  },
  {
   "cell_type": "code",
   "execution_count": 14,
   "metadata": {},
   "outputs": [
    {
     "name": "stdout",
     "output_type": "stream",
     "text": [
      "<a href=\"http://somegreatsite.com\">Link Name</a>\n",
      "{'href': 'http://somegreatsite.com'}\n"
     ]
    }
   ],
   "source": [
    "first_a = soup.find('a')\n",
    "print(first_link)\n",
    "# attributes of a tag\n",
    "print(first_link.attrs)"
   ]
  },
  {
   "cell_type": "markdown",
   "metadata": {},
   "source": [
    "Let's change its `href` attribute:"
   ]
  },
  {
   "cell_type": "code",
   "execution_count": 15,
   "metadata": {},
   "outputs": [
    {
     "name": "stdout",
     "output_type": "stream",
     "text": [
      "<a href=\"www.google.es\">Link Name</a>\n"
     ]
    }
   ],
   "source": [
    "first_link['href'] = 'www.google.es'\n",
    "print(first_link)"
   ]
  },
  {
   "cell_type": "markdown",
   "metadata": {},
   "source": [
    "### Adding an html attribute to a tag  \n",
    "It is as simple as adding a new `key:value` pair to the `.attrs` dictionary"
   ]
  },
  {
   "cell_type": "code",
   "execution_count": 16,
   "metadata": {},
   "outputs": [
    {
     "name": "stdout",
     "output_type": "stream",
     "text": [
      "<a href=\"www.google.es\" target=\"_blank\">Link Name</a>\n"
     ]
    }
   ],
   "source": [
    "first_link['target'] = '_blank'\n",
    "print(first_link)"
   ]
  },
  {
   "cell_type": "markdown",
   "metadata": {},
   "source": [
    "### Finding multiple types of tag  \n",
    "Give a list of tag strings as argument of `.find` or `.find_all` methods. The result is a list of bs objects, or simply said, list of tags."
   ]
  },
  {
   "cell_type": "markdown",
   "metadata": {},
   "source": [
    "#### Previously I will import a new html file"
   ]
  },
  {
   "cell_type": "code",
   "execution_count": 17,
   "metadata": {},
   "outputs": [],
   "source": [
    "with open('index2.html', 'r') as file:\n",
    "    soup2 = bs(file, 'html.parser')"
   ]
  },
  {
   "cell_type": "code",
   "execution_count": 18,
   "metadata": {},
   "outputs": [
    {
     "name": "stdout",
     "output_type": "stream",
     "text": [
      "<p>W3docs provides free learning materials for programming languages\n",
      "          like HTML, CSS, Java Script, PHP etc.</p>\n",
      "<a class=\"btn-item\" href=\"https://www.w3docs.com/learn-html.html\">Learn\n",
      "            HTML</a>\n",
      "<a class=\"btn-item\" href=\"https://www.w3docs.com/quiz/#\">Select Quiz</a>\n",
      "<a href=\"https://www.w3docs.com/privacy-policy\">Privacy Poalicy for\n",
      "              W3Docs.</a>\n"
     ]
    }
   ],
   "source": [
    "tags = soup2.find_all(['a', 'p'])\n",
    "for tag in tags:\n",
    "    print(tag)"
   ]
  },
  {
   "cell_type": "markdown",
   "metadata": {},
   "source": [
    "### Find a tag with combination of tag name and text inside the tag"
   ]
  },
  {
   "cell_type": "code",
   "execution_count": 19,
   "metadata": {},
   "outputs": [
    {
     "name": "stdout",
     "output_type": "stream",
     "text": [
      "<option selected=\"\" value=\"course-type\">Course type*</option>\n",
      "<option value=\"short-courses\">Short courses</option>\n",
      "<option value=\"featured-courses\">Featured courses</option>\n",
      "<option value=\"undergraduate\">Undergraduate</option>\n",
      "<option value=\"diploma\">Diploma</option>\n",
      "<option value=\"certificate\">Certificate</option>\n",
      "<option value=\"masters-degree\">Masters degree</option>\n",
      "<option value=\"postgraduate\">Postgraduate</option>\n",
      "\n",
      "---------------\n",
      "Only this one option is for \"Ungraduate\"\n",
      "[<option value=\"undergraduate\">Undergraduate</option>]\n",
      "Only this one option is for \"Ungraduate\"\n"
     ]
    }
   ],
   "source": [
    "options = soup2.find_all('option')\n",
    "print(*options, sep='\\n')\n",
    "print('\\n' + '-'*15)\n",
    "print('Only this one option is for \"Ungraduate\"')\n",
    "print(soup2.find_all('option', text='Undergraduate'))\n",
    "print('Only this one option is for \"Ungraduate\"')"
   ]
  },
  {
   "cell_type": "markdown",
   "metadata": {},
   "source": [
    "### Search for specific attribute value inside the tag  \n",
    "Give argument for `.find_all` as follows: `tag attribute name = value`"
   ]
  },
  {
   "cell_type": "code",
   "execution_count": 20,
   "metadata": {},
   "outputs": [
    {
     "name": "stdout",
     "output_type": "stream",
     "text": [
      "<a class=\"btn-item\" href=\"https://www.w3docs.com/learn-html.html\">Learn\n",
      "            HTML</a>\n",
      "<a class=\"btn-item\" href=\"https://www.w3docs.com/quiz/#\">Select Quiz</a>\n",
      "<a href=\"https://www.w3docs.com/privacy-policy\">Privacy Poalicy for\n",
      "              W3Docs.</a>\n",
      "\n",
      "\n",
      "Only this one points to the quiz site:\n",
      "[<a class=\"btn-item\" href=\"https://www.w3docs.com/quiz/#\">Select Quiz</a>]\n"
     ]
    }
   ],
   "source": [
    "links = soup2.find_all('a')\n",
    "print(*links, sep='\\n')\n",
    "print('\\n\\nOnly this one points to the quiz site:')\n",
    "print(soup2.find_all(href = \"https://www.w3docs.com/quiz/#\"))\n"
   ]
  },
  {
   "cell_type": "markdown",
   "metadata": {},
   "source": [
    "### Search by class attribute  \n",
    "argument `class_` must be used. It is important to add the **`_`** underscore at the end of the `class_` keyword to differentiate from `class` object keyword"
   ]
  },
  {
   "cell_type": "code",
   "execution_count": 21,
   "metadata": {},
   "outputs": [
    {
     "name": "stdout",
     "output_type": "stream",
     "text": [
      "<a class=\"btn-item\" href=\"https://www.w3docs.com/learn-html.html\">Learn\n",
      "            HTML</a>\n",
      "<a class=\"btn-item\" href=\"https://www.w3docs.com/quiz/#\">Select Quiz</a>\n"
     ]
    }
   ],
   "source": [
    "links_btn = soup2.find_all('a', class_='btn-item')\n",
    "print(*links_btn, sep='\\n')"
   ]
  },
  {
   "cell_type": "markdown",
   "metadata": {},
   "source": [
    "### Search using regular expressions"
   ]
  },
  {
   "cell_type": "code",
   "execution_count": 22,
   "metadata": {},
   "outputs": [
    {
     "name": "stdout",
     "output_type": "stream",
     "text": [
      "['\\n        $2345\\n      ', '\\n        $123\\n        ']\n",
      "Cleaning the result...\n",
      "$2345\n",
      "$123\n"
     ]
    }
   ],
   "source": [
    "import re\n",
    "price_tags = soup2.find_all(text=re.compile('\\$.*'))\n",
    "print(price_tags)\n",
    "print('Cleaning the result...')\n",
    "for i in price_tags:\n",
    "    print(i.strip())"
   ]
  },
  {
   "cell_type": "markdown",
   "metadata": {},
   "source": [
    "### Limiting the number of results of find_all  \n",
    "Use of `limit` as key argument for `.find_all()`method"
   ]
  },
  {
   "cell_type": "code",
   "execution_count": 47,
   "metadata": {},
   "outputs": [
    {
     "name": "stdout",
     "output_type": "stream",
     "text": [
      "Course type*\n",
      "Short courses\n",
      "Featured courses\n",
      "Undergraduate\n",
      "Diploma\n",
      "Certificate\n",
      "Masters degree\n",
      "Postgraduate\n"
     ]
    }
   ],
   "source": [
    "options = soup2.find_all('option')\n",
    "for i in options:\n",
    "    print(i.string)\n",
    "\n",
    "# for div in divs:\n",
    "#     print(div, sep='n' + '*'*15)"
   ]
  },
  {
   "cell_type": "markdown",
   "metadata": {},
   "source": [
    "limit the results to the 3 first ocurrences"
   ]
  },
  {
   "cell_type": "code",
   "execution_count": 49,
   "metadata": {},
   "outputs": [
    {
     "name": "stdout",
     "output_type": "stream",
     "text": [
      "Course type*\n",
      "Short courses\n",
      "Featured courses\n"
     ]
    }
   ],
   "source": [
    "\n",
    "options = soup2.find_all('option', limit=3)\n",
    "for i in options:\n",
    "    print(i.string)"
   ]
  },
  {
   "cell_type": "markdown",
   "metadata": {},
   "source": [
    "### Saving the changes to a modified html file  \n",
    "`str(bs html object)` gives us the plain text html representation of the bs object"
   ]
  },
  {
   "cell_type": "code",
   "execution_count": 50,
   "metadata": {},
   "outputs": [],
   "source": [
    "with open('index.modified.html', 'w') as file:\n",
    "    file.write(str(soup2))"
   ]
  },
  {
   "cell_type": "markdown",
   "metadata": {},
   "source": [
    "## Navigating the DOM tree of a webpage"
   ]
  },
  {
   "cell_type": "code",
   "execution_count": 110,
   "metadata": {},
   "outputs": [
    {
     "data": {
      "text/plain": [
       "<bound method Tag.prettify of <html>\n",
       "<head>\n",
       "<title>Beautiful Soup HTML Sample</title>\n",
       "</head>\n",
       "<body bgcolor=\"FFFFFF\">\n",
       "<center><img align=\"BOTTOM\" src=\"clouds.jpg\"/> </center>\n",
       "<hr/>\n",
       "<a href=\"http://somegreatsite.com\">Link Name</a> is a link to another nifty site\n",
       "  \n",
       "  <h1>THIS IS AN H1 HEADER</h1>\n",
       "<h2>This is a Medium Header</h2>\n",
       "  \n",
       "  Send me mail at <a href=\"mailto:support@yourcompany.com\">\n",
       "  \n",
       "  support@yourcompany.com</a>.\n",
       "  \n",
       "  <p> This is a new paragraph!</p>\n",
       "<p><b color=\"red\">This is a new paragraph!</b><br/>\n",
       "<b><i>This is a new sentence without a paragraph break, in bold italics.</i></b>\n",
       "</p>\n",
       "<table><tr>\n",
       "<td>Cell 1, row 1</td>\n",
       "<td>Cell 2, row 1</td>\n",
       "<td>Cell 3, row 1</td>\n",
       "<td>Cell 4, row 1</td>\n",
       "</tr>\n",
       "<tr>\n",
       "<td>Cell 1, row 2</td>\n",
       "<td>Cell 2, row 2</td>\n",
       "<td>Cell 3, row 2</td>\n",
       "<td>Cell 4, row 2</td>\n",
       "</tr></table>\n",
       "<hr/>\n",
       "</body>\n",
       "</html>\n",
       ">"
      ]
     },
     "execution_count": 110,
     "metadata": {},
     "output_type": "execute_result"
    }
   ],
   "source": [
    "with open('index.html', 'r') as file:\n",
    "    soup3 = bs(file, 'html.parser')\n",
    "soup3.prettify"
   ]
  },
  {
   "cell_type": "markdown",
   "metadata": {},
   "source": [
    "### Get the children tags of an html element  \n",
    "Using `.contents` attribute of bs object  \n",
    "Looking for the criptocurrencies table and then list its children tags"
   ]
  },
  {
   "cell_type": "code",
   "execution_count": 121,
   "metadata": {},
   "outputs": [
    {
     "name": "stdout",
     "output_type": "stream",
     "text": [
      "[<tr>\n",
      "<td>Cell 1, row 1</td>\n",
      "<td>Cell 2, row 1</td>\n",
      "<td>Cell 3, row 1</td>\n",
      "<td>Cell 4, row 1</td>\n",
      "</tr>, '\\n', <tr>\n",
      "<td>Cell 1, row 2</td>\n",
      "<td>Cell 2, row 2</td>\n",
      "<td>Cell 3, row 2</td>\n",
      "<td>Cell 4, row 2</td>\n",
      "</tr>]\n"
     ]
    }
   ],
   "source": [
    "table = soup3.find('table')\n",
    "table_content = table.contents\n",
    "print(table_content)"
   ]
  },
  {
   "cell_type": "markdown",
   "metadata": {},
   "source": [
    "#### `.next_siblings` is a generator with all the sibling tags and their content  \n",
    "The generator content can be transformed into a list using `list(html_tag.next_siblings)`"
   ]
  },
  {
   "cell_type": "code",
   "execution_count": 129,
   "metadata": {},
   "outputs": [
    {
     "name": "stdout",
     "output_type": "stream",
     "text": [
      "<class 'generator'>\n",
      "<tr>\n",
      "<td>Cell 1, row 2</td>\n",
      "<td>Cell 2, row 2</td>\n",
      "<td>Cell 3, row 2</td>\n",
      "<td>Cell 4, row 2</td>\n",
      "</tr>\n"
     ]
    }
   ],
   "source": [
    "_1st_row_siblings = table_content[0].next_siblings\n",
    "print(type(_1st_row_siblings))\n",
    "for row in _1st_row_siblings:\n",
    "    if row != '\\n':\n",
    "        print(row)"
   ]
  },
  {
   "cell_type": "markdown",
   "metadata": {},
   "source": [
    "#### The next sibling tag of one kind can accessed using `.next_sibling`. Likewise, the previous one using `.previous_sibling`"
   ]
  },
  {
   "cell_type": "code",
   "execution_count": 125,
   "metadata": {},
   "outputs": [
    {
     "name": "stdout",
     "output_type": "stream",
     "text": [
      "Second element of table_content.contents is a breakline\n",
      "\n",
      "\n",
      "\n",
      "***************\n",
      "<tr>\n",
      "<td>Cell 1, row 2</td>\n",
      "<td>Cell 2, row 2</td>\n",
      "<td>Cell 3, row 2</td>\n",
      "<td>Cell 4, row 2</td>\n",
      "</tr>\n",
      "\n",
      "***************\n",
      "<tr>\n",
      "<td>Cell 1, row 1</td>\n",
      "<td>Cell 2, row 1</td>\n",
      "<td>Cell 3, row 1</td>\n",
      "<td>Cell 4, row 1</td>\n",
      "</tr>\n"
     ]
    }
   ],
   "source": [
    "# first row of the table\n",
    "print('Second element of table_content.contents is a breakline')\n",
    "print(table_content[1])\n",
    "print('\\n' + '*'*15)\n",
    "# next row of table\n",
    "print(table_content[1].next_sibling)\n",
    "print('\\n' + '*'*15)\n",
    "# previous row is the first one\n",
    "previous = table_content[1].previous_sibling\n",
    "print(previous)"
   ]
  },
  {
   "cell_type": "markdown",
   "metadata": {},
   "source": [
    "### Parent of a tag: `.parent`  Tag name of the parent tag> `.parent.name`\n",
    "### "
   ]
  },
  {
   "cell_type": "code",
   "execution_count": 143,
   "metadata": {},
   "outputs": [
    {
     "name": "stdout",
     "output_type": "stream",
     "text": [
      "The parent of the row is the whole table\n",
      "<table><tr>\n",
      "<td>Cell 1, row 1</td>\n",
      "<td>Cell 2, row 1</td>\n",
      "<td>Cell 3, row 1</td>\n",
      "<td>Cell 4, row 1</td>\n",
      "</tr>\n",
      "<tr>\n",
      "<td>Cell 1, row 2</td>\n",
      "<td>Cell 2, row 2</td>\n",
      "<td>Cell 3, row 2</td>\n",
      "<td>Cell 4, row 2</td>\n",
      "</tr></table>\n",
      "Get the parent tag name: table\n"
     ]
    }
   ],
   "source": [
    "first_row = table.contents[0]\n",
    "print('The parent of the row is the whole table')\n",
    "print(first_row.parent)\n",
    "print(f'Get the parent tag name: {first_row.parent.name}')"
   ]
  },
  {
   "cell_type": "markdown",
   "metadata": {},
   "source": [
    "### In order to get the content of a tag, three different attributes can be used> `.contents`, `.descendants` and `.children`  \n",
    "`.descendants` gives a generator with all the tags that are children of their parent"
   ]
  },
  {
   "cell_type": "code",
   "execution_count": 157,
   "metadata": {},
   "outputs": [
    {
     "name": "stdout",
     "output_type": "stream",
     "text": [
      ".contents\tyields: <class 'list'>\n",
      ".descendants\tyields: <class 'generator'>\n",
      ".children\tyields: <class 'list_iterator'>\n"
     ]
    }
   ],
   "source": [
    "print('.contents\\tyields:', end=' ')\n",
    "print(type(table.contents))\n",
    "print('.descendants\\tyields:', end=' ')\n",
    "print(type(table.descendants))\n",
    "print('.children\\tyields:', end=' ')\n",
    "print(type(table.children))"
   ]
  },
  {
   "cell_type": "markdown",
   "metadata": {},
   "source": [
    "#### All the three attributes give the same information"
   ]
  },
  {
   "cell_type": "code",
   "execution_count": 160,
   "metadata": {},
   "outputs": [
    {
     "name": "stdout",
     "output_type": "stream",
     "text": [
      "<tr>\n",
      "<td>Cell 1, row 1</td>\n",
      "<td>Cell 2, row 1</td>\n",
      "<td>Cell 3, row 1</td>\n",
      "<td>Cell 4, row 1</td>\n",
      "</tr> \n",
      " <tr>\n",
      "<td>Cell 1, row 2</td>\n",
      "<td>Cell 2, row 2</td>\n",
      "<td>Cell 3, row 2</td>\n",
      "<td>Cell 4, row 2</td>\n",
      "</tr>\n",
      "********************\n",
      "<tr>\n",
      "<td>Cell 1, row 1</td>\n",
      "<td>Cell 2, row 1</td>\n",
      "<td>Cell 3, row 1</td>\n",
      "<td>Cell 4, row 1</td>\n",
      "</tr> \n",
      " <td>Cell 1, row 1</td> Cell 1, row 1 \n",
      " <td>Cell 2, row 1</td> Cell 2, row 1 \n",
      " <td>Cell 3, row 1</td> Cell 3, row 1 \n",
      " <td>Cell 4, row 1</td> Cell 4, row 1 \n",
      " \n",
      " <tr>\n",
      "<td>Cell 1, row 2</td>\n",
      "<td>Cell 2, row 2</td>\n",
      "<td>Cell 3, row 2</td>\n",
      "<td>Cell 4, row 2</td>\n",
      "</tr> \n",
      " <td>Cell 1, row 2</td> Cell 1, row 2 \n",
      " <td>Cell 2, row 2</td> Cell 2, row 2 \n",
      " <td>Cell 3, row 2</td> Cell 3, row 2 \n",
      " <td>Cell 4, row 2</td> Cell 4, row 2 \n",
      "\n",
      "********************\n",
      "<tr>\n",
      "<td>Cell 1, row 1</td>\n",
      "<td>Cell 2, row 1</td>\n",
      "<td>Cell 3, row 1</td>\n",
      "<td>Cell 4, row 1</td>\n",
      "</tr> \n",
      " <tr>\n",
      "<td>Cell 1, row 2</td>\n",
      "<td>Cell 2, row 2</td>\n",
      "<td>Cell 3, row 2</td>\n",
      "<td>Cell 4, row 2</td>\n",
      "</tr>\n"
     ]
    }
   ],
   "source": [
    "print(*table.contents)\n",
    "print('*'*20)\n",
    "print(*table.descendants)\n",
    "print('*'*20)\n",
    "print(*table.children)"
   ]
  },
  {
   "cell_type": "markdown",
   "metadata": {},
   "source": [
    "Look for criptocurrencies prices. They are located inside different types of html tags"
   ]
  },
  {
   "cell_type": "code",
   "execution_count": 376,
   "metadata": {},
   "outputs": [
    {
     "name": "stdout",
     "output_type": "stream",
     "text": [
      "Bitcoin -- $48,735.45\n",
      "Ethereum -- $4,059.56\n",
      "Binance Coin -- $561.90\n",
      "Tether -- $1.00\n",
      "Solana -- $200.78\n",
      "Cardano -- $1.41\n",
      "USD Coin -- $0.9992\n",
      "XRP -- $0.8328\n",
      "Polkadot -- $29.09\n",
      "Terra -- $71.10\n",
      "Dogecoin -- $0.18\n",
      "Avalanche -- $90.74\n",
      "SHIBA INU -- $0.00\n",
      "Crypto.com Coin -- $0.59\n",
      "Binance USD -- $1.00\n",
      "Polygon -- $1.95\n",
      "Wrapped Bitcoin -- $48495.90\n",
      "Litecoin -- $162.54\n",
      "Uniswap -- $17.06\n",
      "Algorand -- $1.64\n",
      "Chainlink -- $20.69\n",
      "Bitcoin Cash -- $468.76\n",
      "TRON -- $0.09\n",
      "TerraUSD -- $1.00\n",
      "Decentraland -- $4.03\n",
      "Stellar -- $0.29\n",
      "Axie Infinity -- $116.12\n",
      "Dai -- $1.00\n",
      "Cosmos -- $27.22\n",
      "VeChain -- $0.10\n",
      "FTX Token -- $43.59\n",
      "Elrond -- $304.70\n",
      "Internet Computer -- $31.24\n",
      "The Sandbox -- $5.89\n",
      "Filecoin -- $40.77\n",
      "Hedera -- $0.29\n",
      "THETA -- $5.12\n",
      "Ethereum Classic -- $38.89\n",
      "Bitcoin BEP2 -- $48406.09\n",
      "NEAR Protocol -- $7.83\n",
      "Fantom -- $1.68\n",
      "Tezos -- $4.11\n",
      "Monero -- $197.79\n",
      "Gala -- $0.50\n",
      "Helium -- $34.13\n",
      "The Graph -- $0.73\n",
      "IOTA -- $1.18\n",
      "Klaytn -- $1.27\n",
      "UNUS SED LEO -- $3.34\n",
      "Flow -- $9.85\n",
      "EOS -- $3.11\n",
      "Loopring -- $2.16\n",
      "PancakeSwap -- $11.58\n",
      "Stacks -- $2.18\n",
      "Aave -- $198.03\n",
      "Maker -- $2591.67\n",
      "Kusama -- $300.99\n",
      "BitTorrent -- $0.00\n",
      "Enjin Coin -- $2.94\n",
      "Zcash -- $181.76\n",
      "Bitcoin SV -- $126.77\n",
      "Quant -- $195.77\n",
      "eCash -- $0.00\n",
      "Harmony -- $0.20\n",
      "Amp -- $0.05\n",
      "THORChain -- $8.29\n",
      "Neo -- $29.19\n",
      "Chiliz -- $0.33\n",
      "Kadena -- $12.17\n",
      "Waves -- $17.87\n",
      "KuCoin Token -- $22.86\n",
      "Holo -- $0.01\n",
      "Arweave -- $49.93\n",
      "Basic Attention Token -- $1.11\n",
      "Curve DAO Token -- $3.70\n",
      "Celo -- $4.03\n",
      "Dash -- $139.63\n",
      "OKB -- $23.80\n",
      "Huobi Token -- $8.80\n",
      "Theta Fuel -- $0.26\n",
      "Compound -- $216.76\n",
      "Nexo -- $2.34\n",
      "TrueUSD -- $1.00\n",
      "Decred -- $88.49\n",
      "NEM -- $0.13\n",
      "IoTeX -- $0.13\n",
      "Voyager Token -- $4.25\n",
      "Mina -- $3.76\n",
      "Qtum -- $11.20\n",
      "Immutable X -- $5.73\n",
      "1inch Network -- $2.63\n",
      "XDC Network -- $0.08\n",
      "Audius -- $1.86\n",
      "Pax Dollar -- $1.00\n",
      "WAX -- $0.51\n",
      "Oasis Network -- $0.27\n",
      "Ravencoin -- $0.09\n",
      "Horizen -- $77.72\n",
      "OMG Network -- $6.53\n",
      "Celsius -- $3.83\n"
     ]
    }
   ],
   "source": [
    "url = 'https://coinmarketcap.com/'\n",
    "html = requests.get(url)\n",
    "html = html.text\n",
    "soup3 = bs(html, 'html.parser')\n",
    "# the table with the criptocurrencies and their data is located in a tbody html tag\n",
    "table = soup3.tbody\n",
    "rows = table.contents\n",
    "# currency name and value are inside the 3rd and 4th td tags inside each tr tag\n",
    "currencies = {}\n",
    "\n",
    "# the 10 first currencies have their names and values inside p tags\n",
    "for row in rows[:10]:\n",
    "    td_name = row.contents[2]\n",
    "    td_name_p_tags = td_name.find_all('p')\n",
    "    coin_name, coin_symbol = td_name_p_tags[0].string, td_name_p_tags[1].string\n",
    "    coin_value = row.contents[3].span.string\n",
    "    # add the currency to the dictionary\n",
    "    currencies[coin_name] = [coin_name, coin_symbol, coin_value]\n",
    "    #print(f'Currency: {coin_name}, {coin_symbol}. Current value: {coin_value}')\n",
    "\n",
    "# the rest of currencies have their names and values inside span tags\n",
    "# currency name, symbol and value are located in 3rd td inside tr tag\n",
    "# inside the td tag, they are inside span tags\n",
    "for row in rows[10:]:\n",
    "    td_name = row.contents[2]\n",
    "    td_name_spans = td_name.find_all('span')\n",
    "    coin_name, coin_symbol = td_name_spans[1].string, td_name_spans[2].string\n",
    "    # <span>$<!-- -->92.85</span></td>\n",
    "    # span with currency value has a comment inside\n",
    "    coin_value = row.contents[3].span.contents\n",
    "    # remove the comment in position 1 --> ['$', ' ', '0.18']\n",
    "    coin_value.pop(1)\n",
    "    # join the dollar sign and value\n",
    "    coin_value  = ''.join(coin_value)\n",
    "    currencies[coin_name] = [coin_name, coin_symbol, coin_value]\n",
    "    #print(f'Currency: {coin_name}, {coin_symbol}. Current value: {coin_value}')\n",
    "\n",
    "for coin, info in currencies.items():\n",
    "    print(f'{coin} -- {info[2]}')\n"
   ]
  },
  {
   "cell_type": "markdown",
   "metadata": {},
   "source": []
  }
 ],
 "metadata": {
  "interpreter": {
   "hash": "e7370f93d1d0cde622a1f8e1c04877d8463912d04d973331ad4851f04de6915a"
  },
  "kernelspec": {
   "display_name": "Python 3 (ipykernel)",
   "language": "python",
   "name": "python3"
  },
  "language_info": {
   "codemirror_mode": {
    "name": "ipython",
    "version": 3
   },
   "file_extension": ".py",
   "mimetype": "text/x-python",
   "name": "python",
   "nbconvert_exporter": "python",
   "pygments_lexer": "ipython3",
   "version": "3.9.7"
  }
 },
 "nbformat": 4,
 "nbformat_minor": 2
}
