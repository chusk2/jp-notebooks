{
 "cells": [
  {
   "cell_type": "code",
   "execution_count": 42,
   "metadata": {},
   "outputs": [
    {
     "name": "stdout",
     "output_type": "stream",
     "text": [
      "The list of x values has n = 45.\n"
     ]
    },
    {
     "data": {
      "text/plain": [
       "6084.355912228234"
      ]
     },
     "execution_count": 42,
     "metadata": {},
     "output_type": "execute_result"
    }
   ],
   "source": [
    "import csv\n",
    "import math\n",
    "#read data from txt file\n",
    "with open('ejercicio2.txt', 'r') as file:\n",
    "    data = file.readlines()\n",
    "#create a function to clean and prepare data\n",
    "def clean_data(array):\n",
    "    # clean new line char and substitute comma with decimal point\n",
    "    data = [i.replace('\\n', '').replace(',', '.') for i in array]\n",
    "    data = [float(i) for i in data]\n",
    "    data = [int(i) for i in data if i.is_integer()]\n",
    "    return data\n",
    "\n",
    "x = clean_data(data)\n",
    "print(f'The list of x values has n = {len(x)}.')\n",
    "\n",
    "# write the data to a csv file\n",
    "with open('x.csv', 'w') as csv_file:\n",
    "    writer = csv.writer(csv_file)\n",
    "    for line in x:\n",
    "        # every new row must be a list\n",
    "        writer.writerow([line])\n",
    "\n",
    "n = len(x)\n",
    "mean = sum(x) / n\n",
    "\n",
    "def mean(data):\n",
    "    \n",
    "    # sample size is odd, take point in position n/2 + 1\n",
    "    if len(data) % 2 != 0:\n",
    "        return data[(len(data) -1) // 2]\n",
    "    # if sample size is even, take next two points to position (n-2) / 2\n",
    "    elif len(data) % 2 == 0:\n",
    "        num1 = data[ (len(data) -2 ) // 2 ]\n",
    "        num2 = data[ (len(data) -2 ) // 2  +1]\n",
    "        return (num1+num2)/2\n",
    "\n",
    "mean(x)\n",
    "\n",
    "def std_deviation(data):\n",
    "    x_square = [i**2 for i in data]\n",
    "    n = len(data)\n",
    "    x_mean = mean(data)\n",
    "    return math.sqrt(sum(x_square)/n - x_mean**2)\n",
    "\n",
    "std_deviation(x)\n"
   ]
  },
  {
   "cell_type": "code",
   "execution_count": null,
   "metadata": {},
   "outputs": [],
   "source": []
  }
 ],
 "metadata": {
  "interpreter": {
   "hash": "e7370f93d1d0cde622a1f8e1c04877d8463912d04d973331ad4851f04de6915a"
  },
  "kernelspec": {
   "display_name": "Python 3.9.7 64-bit",
   "name": "python3"
  },
  "language_info": {
   "codemirror_mode": {
    "name": "ipython",
    "version": 3
   },
   "file_extension": ".py",
   "mimetype": "text/x-python",
   "name": "python",
   "nbconvert_exporter": "python",
   "pygments_lexer": "ipython3",
   "version": "3.9.7"
  },
  "orig_nbformat": 4
 },
 "nbformat": 4,
 "nbformat_minor": 2
}
