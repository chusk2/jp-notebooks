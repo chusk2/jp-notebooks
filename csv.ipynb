{
 "cells": [
  {
   "cell_type": "code",
   "execution_count": 12,
   "metadata": {},
   "outputs": [],
   "source": [
    "import csv"
   ]
  },
  {
   "cell_type": "markdown",
   "metadata": {},
   "source": [
    "Open the csv file with content manager"
   ]
  },
  {
   "cell_type": "code",
   "execution_count": 3,
   "metadata": {},
   "outputs": [],
   "source": [
    "with open('country.csv', 'r') as f:\n",
    "    # create a reader object with content of csv file\n",
    "    reader = csv.reader(f)\n",
    "    #content = list(reader)\n",
    "#print(content)"
   ]
  },
  {
   "cell_type": "markdown",
   "metadata": {},
   "source": [
    "Now the content of the csv file is in the `reader` object. It's a **generator** and you can iterate over it or just get items one by one using `next(generator)`"
   ]
  },
  {
   "cell_type": "code",
   "execution_count": 4,
   "metadata": {},
   "outputs": [
    {
     "ename": "ValueError",
     "evalue": "I/O operation on closed file.",
     "output_type": "error",
     "traceback": [
      "\u001b[0;31m---------------------------------------------------------------------------\u001b[0m",
      "\u001b[0;31mValueError\u001b[0m                                Traceback (most recent call last)",
      "\u001b[0;32m/tmp/ipykernel_4741/2221093131.py\u001b[0m in \u001b[0;36m<module>\u001b[0;34m\u001b[0m\n\u001b[0;32m----> 1\u001b[0;31m \u001b[0;32mfor\u001b[0m \u001b[0mline\u001b[0m \u001b[0;32min\u001b[0m \u001b[0mreader\u001b[0m\u001b[0;34m:\u001b[0m\u001b[0;34m\u001b[0m\u001b[0;34m\u001b[0m\u001b[0m\n\u001b[0m\u001b[1;32m      2\u001b[0m     \u001b[0mprint\u001b[0m\u001b[0;34m(\u001b[0m\u001b[0mline\u001b[0m\u001b[0;34m)\u001b[0m\u001b[0;34m\u001b[0m\u001b[0;34m\u001b[0m\u001b[0m\n",
      "\u001b[0;31mValueError\u001b[0m: I/O operation on closed file."
     ]
    }
   ],
   "source": [
    "for line in reader:\n",
    "    print(line)"
   ]
  },
  {
   "cell_type": "markdown",
   "metadata": {},
   "source": [
    "To avoid the above exception, all operations on csv content must be under the `with open()` ... content manager. Otherwise, content manager closes the file and can't be accessed anymore."
   ]
  },
  {
   "cell_type": "code",
   "execution_count": 5,
   "metadata": {},
   "outputs": [
    {
     "ename": "TypeError",
     "evalue": "'_csv.reader' object is not subscriptable",
     "output_type": "error",
     "traceback": [
      "\u001b[0;31m---------------------------------------------------------------------------\u001b[0m",
      "\u001b[0;31mTypeError\u001b[0m                                 Traceback (most recent call last)",
      "\u001b[0;32m/tmp/ipykernel_4741/3744480142.py\u001b[0m in \u001b[0;36m<module>\u001b[0;34m\u001b[0m\n\u001b[1;32m      3\u001b[0m     \u001b[0mreader\u001b[0m \u001b[0;34m=\u001b[0m \u001b[0mcsv\u001b[0m\u001b[0;34m.\u001b[0m\u001b[0mreader\u001b[0m\u001b[0;34m(\u001b[0m\u001b[0mf\u001b[0m\u001b[0;34m)\u001b[0m\u001b[0;34m\u001b[0m\u001b[0;34m\u001b[0m\u001b[0m\n\u001b[1;32m      4\u001b[0m \u001b[0;34m\u001b[0m\u001b[0m\n\u001b[0;32m----> 5\u001b[0;31m     \u001b[0;32mfor\u001b[0m \u001b[0mline\u001b[0m \u001b[0;32min\u001b[0m \u001b[0mreader\u001b[0m\u001b[0;34m[\u001b[0m\u001b[0;34m:\u001b[0m\u001b[0;36m5\u001b[0m\u001b[0;34m]\u001b[0m\u001b[0;34m:\u001b[0m  \u001b[0;31m# print first 5 rows of csv file\u001b[0m\u001b[0;34m\u001b[0m\u001b[0;34m\u001b[0m\u001b[0m\n\u001b[0m\u001b[1;32m      6\u001b[0m         \u001b[0mprint\u001b[0m\u001b[0;34m(\u001b[0m\u001b[0mline\u001b[0m\u001b[0;34m)\u001b[0m\u001b[0;34m\u001b[0m\u001b[0;34m\u001b[0m\u001b[0m\n",
      "\u001b[0;31mTypeError\u001b[0m: '_csv.reader' object is not subscriptable"
     ]
    }
   ],
   "source": [
    "with open('country.csv', 'r') as f:\n",
    "    # create a reader object with content of csv file\n",
    "    reader = csv.reader(f)\n",
    "    \n",
    "    for line in reader[:5]:  # print first 5 rows of csv file\n",
    "        print(line)"
   ]
  },
  {
   "cell_type": "markdown",
   "metadata": {},
   "source": [
    "\n",
    "`reader` object is a generator but not suscriptable. To read only 5 first lines, use `next()` to yield line by line"
   ]
  },
  {
   "cell_type": "code",
   "execution_count": 6,
   "metadata": {},
   "outputs": [
    {
     "name": "stdout",
     "output_type": "stream",
     "text": [
      "['name', 'alpha-2', 'alpha-3', 'country-code', 'iso_3166-2', 'region', 'sub-region', 'intermediate-region', 'region-code', 'sub-region-code', 'intermediate-region-code']\n",
      "['Afghanistan', 'AF', 'AFG', '004', 'ISO 3166-2:AF', 'Asia', 'Southern Asia', '', '142', '034', '']\n",
      "['Åland Islands', 'AX', 'ALA', '248', 'ISO 3166-2:AX', 'Europe', 'Northern Europe', '', '150', '154', '']\n",
      "['Albania', 'AL', 'ALB', '008', 'ISO 3166-2:AL', 'Europe', 'Southern Europe', '', '150', '039', '']\n",
      "['Algeria', 'DZ', 'DZA', '012', 'ISO 3166-2:DZ', 'Africa', 'Northern Africa', '', '002', '015', '']\n"
     ]
    }
   ],
   "source": [
    "with open('country.csv', 'r') as f:\n",
    "    # create a reader object with content of csv file\n",
    "    reader = csv.reader(f)\n",
    "    \n",
    "    for i in range(5):  # print first 5 rows of csv file\n",
    "        print(next(reader))"
   ]
  },
  {
   "cell_type": "markdown",
   "metadata": {},
   "source": [
    "\n",
    "As shown above, the first line is a header. `csv.DictReader()` can be used to generate a dictionary where keys are the elements of the first row of csv file. Elements of a row can be accessed as values of a line dictionary using the header keys."
   ]
  },
  {
   "cell_type": "code",
   "execution_count": 11,
   "metadata": {},
   "outputs": [
    {
     "name": "stdout",
     "output_type": "stream",
     "text": [
      "The country is Afghanistan and it's located in Asia.\n",
      "The country is Åland Islands and it's located in Europe.\n",
      "The country is Albania and it's located in Europe.\n",
      "The country is Algeria and it's located in Africa.\n",
      "The country is American Samoa and it's located in Oceania.\n"
     ]
    }
   ],
   "source": [
    "with open('country.csv', 'r') as f:\n",
    "    # create a reader object with content of csv file\n",
    "    # Now use the header to set the keys of a dictionary \n",
    "    reader = csv.DictReader(f)\n",
    "    \n",
    "    for i in range(5):  # print first 5 rows of csv file[]\n",
    "        line = next(reader)\n",
    "        # be careful and use different types of quotes for f-string and dict keys\n",
    "        print(f'The country is {line[\"name\"]} and it\\'s located in {line[\"region\"]}.')"
   ]
  },
  {
   "cell_type": "markdown",
   "metadata": {},
   "source": [
    "\n",
    "ow let's generate a list and then export it to a csv file"
   ]
  },
  {
   "cell_type": "code",
   "execution_count": 15,
   "metadata": {},
   "outputs": [
    {
     "name": "stdout",
     "output_type": "stream",
     "text": [
      "[['UIL', 236123, 'Thursday'], ['OWX', 784967, 'Monday'], ['KDC', 231020, 'Saturday'], ['TJW', 401793, 'Wednesday'], ['FJZ', 434280, 'Thursday'], ['AXB', 628367, 'Sunday'], ['AOD', 836303, 'Friday'], ['QDR', 146034, 'Saturday'], ['MUF', 205399, 'Friday'], ['QUX', 523602, 'Saturday'], ['JYY', 739461, 'Friday'], ['TBP', 115115, 'Thursday'], ['ZTQ', 151717, 'Saturday'], ['SAQ', 264284, 'Wednesday'], ['BJI', 193150, 'Tuesday']]\n"
     ]
    }
   ],
   "source": [
    "from random import randint, choice\n",
    "\n",
    "# create codes\n",
    "data = []\n",
    "for i in range(15):\n",
    "    code = ''\n",
    "    number = ''\n",
    "    for i in range(3):\n",
    "        random_char = chr(randint(65,90))\n",
    "        code += random_char\n",
    "    for i in range(6):\n",
    "        random_digit = str(randint(0,9))\n",
    "        number += random_digit\n",
    "    number = int(number)\n",
    "    weekday = choice(['Monday', 'Tuesday', 'Wednesday', 'Thursday', 'Friday',\n",
    "                      'Saturday', 'Sunday'])\n",
    "    data.append([code,number,weekday])\n",
    "print(data)\n"
   ]
  },
  {
   "cell_type": "markdown",
   "metadata": {},
   "source": [
    "Now let's store `data` in a csv file"
   ]
  },
  {
   "cell_type": "code",
   "execution_count": 17,
   "metadata": {},
   "outputs": [],
   "source": [
    "with open('codes.csv', 'w') as f:\n",
    "    writer = csv.writer(f)\n",
    "    writer.writerows(data)\n"
   ]
  },
  {
   "cell_type": "markdown",
   "metadata": {},
   "source": [
    "Now the csv file will be generated with a header row. The keys of the header are given to csv.DictWriter using argument `fieldnames` in the form of a list "
   ]
  },
  {
   "cell_type": "code",
   "execution_count": 26,
   "metadata": {},
   "outputs": [],
   "source": [
    "with open('codes_with_header.csv', 'w') as f:\n",
    "    writer = csv.DictWriter(f, ['Alpha Code', 'Phone', 'Weekday'])\n",
    "    # generate a header using provided keys\n",
    "    writer.writeheader()\n",
    "    for line in data:\n",
    "        writer.writerow({'Alpha Code': line[0], 'Phone': line[1], 'Weekday': line[2]})\n"
   ]
  }
 ],
 "metadata": {
  "interpreter": {
   "hash": "e7370f93d1d0cde622a1f8e1c04877d8463912d04d973331ad4851f04de6915a"
  },
  "kernelspec": {
   "display_name": "Python 3.9.7 64-bit",
   "name": "python3"
  },
  "language_info": {
   "codemirror_mode": {
    "name": "ipython",
    "version": 3
   },
   "file_extension": ".py",
   "mimetype": "text/x-python",
   "name": "python",
   "nbconvert_exporter": "python",
   "pygments_lexer": "ipython3",
   "version": "3.9.7"
  },
  "orig_nbformat": 4
 },
 "nbformat": 4,
 "nbformat_minor": 2
}
